{
 "cells": [
  {
   "cell_type": "code",
   "execution_count": 21,
   "id": "2bb94e0d-cc92-425a-a90b-0936d7f65ada",
   "metadata": {},
   "outputs": [
    {
     "name": "stdout",
     "output_type": "stream",
     "text": [
      "We are making an error at index 0: computing sum([arg1[0] + i for i in arg2]) = 6\n",
      "We are making an error at index 0: computing sum([arg1[0] + i for i in arg2]) = 6\n",
      "We are making an error at index 0: computing sum([arg1[0] + i for i in arg2]) = 6\n",
      "We are making an error at index 1: computing sum([arg1[1] + i for i in arg2]) = 9\n",
      "We are making an error at index 1: computing sum([arg1[1] + i for i in arg2]) = 9\n",
      "We are making an error at index 1: computing sum([arg1[1] + i for i in arg2]) = 9\n",
      "We are making an error at index 2: computing sum([arg1[2] + i for i in arg2]) = 12\n",
      "We are making an error at index 2: computing sum([arg1[2] + i for i in arg2]) = 12\n",
      "We are making an error at index 2: computing sum([arg1[2] + i for i in arg2]) = 12\n",
      "The correct answer is supposed to be: [4, 5, 6]\n"
     ]
    },
    {
     "data": {
      "text/plain": [
       "[6, 9, 12]"
      ]
     },
     "execution_count": 21,
     "metadata": {},
     "output_type": "execute_result"
    }
   ],
   "source": [
    "#1A\n",
    "def wrong_add_function(arg1, arg2):\n",
    "    '''\n",
    "    Debug version of the function with print statements to highlight the mistake.\n",
    "    '''\n",
    "    arg1_index = 0\n",
    "    while arg1_index < len(arg1):\n",
    "        arg_2_sum = 0\n",
    "        for arg2_elements in arg2:\n",
    "            arg_2_sum = sum([arg1[arg1_index] + i for i in arg2])\n",
    "            #we are making an error in the loop by creating the list within the loop and overwriting the value every time \n",
    "            print(f\"We are making an error at index {arg1_index}: computing sum([arg1[{arg1_index}] + i for i in arg2]) = {arg_2_sum}\")\n",
    "        arg1[arg1_index] = arg_2_sum\n",
    "        arg1_index += 1\n",
    "    \n",
    "    print(f\"The correct answer is supposed to be: {[x + sum(arg2) for x in [1,2,3]]}\")\n",
    "    return arg1\n",
    "\n",
    "# Test\n",
    "arg1 = [1, 2, 3]\n",
    "arg2 = [1, 1, 1]\n",
    "wrong_add_function(arg1, arg2)"
   ]
  },
  {
   "cell_type": "code",
   "execution_count": 23,
   "id": "4106fdb5-0b94-4812-814e-179ea4712d53",
   "metadata": {},
   "outputs": [
    {
     "name": "stdout",
     "output_type": "stream",
     "text": [
      "The correct answer is: [4, 5, 6]\n"
     ]
    },
    {
     "data": {
      "text/plain": [
       "[4, 5, 6]"
      ]
     },
     "execution_count": 23,
     "metadata": {},
     "output_type": "execute_result"
    }
   ],
   "source": [
    "#1B\n",
    "def right_add_function(arg1,arg2):\n",
    "    arg1_index = 0\n",
    "    arg2_sum = sum(arg2)  \n",
    "    while arg1_index < len(arg1):\n",
    "        arg1[arg1_index] += arg2_sum\n",
    "        arg1_index += 1\n",
    "\n",
    "    print(f\"The correct answer is: {[x for x in arg1]}\")\n",
    "    return arg1\n",
    "\n",
    "# Test\n",
    "arg1 = [1, 2, 3]\n",
    "arg2 = [1, 1, 1]\n",
    "right_add_function(arg1, arg2)"
   ]
  },
  {
   "cell_type": "code",
   "execution_count": 35,
   "id": "c4a6d0cf-4281-4c63-b244-35ac318254fa",
   "metadata": {},
   "outputs": [
    {
     "name": "stdout",
     "output_type": "stream",
     "text": [
      "Your input argument 2 at element 2 is not of the expected type. Please change this and rerun.\n"
     ]
    }
   ],
   "source": [
    "def exception_add_function(arg1, arg2):\n",
    "    #2A\n",
    "    # Numeric section (untouched)\n",
    "    if sum([type(i) == int for i in arg1]) == len(arg1) and \\\n",
    "       sum([type(i) == int for i in arg2]) == len(arg2):\n",
    "        arg1_index = 0\n",
    "        arg2_sum = sum(arg2)\n",
    "        while arg1_index < len(arg1):\n",
    "            arg1[arg1_index] += arg2_sum\n",
    "            arg1_index += 1\n",
    "        return arg1\n",
    "\n",
    "    #2B\n",
    "    # Try/except wrapping only string section\n",
    "    try:\n",
    "        if sum([type(i) == str for i in arg1]) == len(arg1) and \\\n",
    "           sum([type(i) == str for i in arg2]) == len(arg2):\n",
    "\n",
    "            arg1_index = 0\n",
    "            while arg1_index < len(arg1):\n",
    "                arg_2_sum = ''\n",
    "                for arg2_elements in arg2:\n",
    "                    arg_2_sum += arg2_elements\n",
    "                arg1[arg1_index] = arg1[arg1_index] + str(arg_2_sum)\n",
    "                arg1_index += 1\n",
    "            return arg1\n",
    "\n",
    "        else:\n",
    "            for idx, val in enumerate(arg1):\n",
    "                if not isinstance(val, str):\n",
    "                    return f\"Your input argument 1 at element {idx} is not of the expected type. Please change this and rerun.\"\n",
    "            for idx, val in enumerate(arg2):\n",
    "                if not isinstance(val, str):\n",
    "                    return f\"Your input argument 2 at element {idx} is not of the expected type. Please change this and rerun.\"\n",
    "            return \"Your input is not of the expected format.\"\n",
    "\n",
    "    except Exception:\n",
    "        return \"An unknown error occurred during string processing.\"\n",
    "\n",
    "arg_str_1=['1','2','3']\n",
    "arg_str_2=['1','1', 1]\n",
    "\n",
    "print(exception_add_function(arg_str_1,arg_str_2))\n"
   ]
  },
  {
   "cell_type": "code",
   "execution_count": 43,
   "id": "c4ef7d22-2b39-468a-bfc8-2e4ec6ea436d",
   "metadata": {},
   "outputs": [
    {
     "name": "stdout",
     "output_type": "stream",
     "text": [
      "[6, 9, 12]\n",
      "I am not entirely sure this was what was asked, but it seems to accomplish the intent\n"
     ]
    }
   ],
   "source": [
    "#2C\n",
    "def wrong_add_function(arg1, arg2): #here is the original function unmodified \n",
    "    arg1_index=0\n",
    "    while arg1_index < len(arg1):\n",
    "        arg_2_sum = 0\n",
    "        for arg2_elements in arg2:\n",
    "            arg_2_sum = sum([arg1[arg1_index]+i for i in arg2])\n",
    "        arg1[arg1_index]=arg_2_sum  \n",
    "        arg1_index+=1\n",
    "    return arg1\n",
    "    \n",
    "def correction_add_function(arg1, arg2):\n",
    "    try:\n",
    "        # Try running wrong_add_function on the original inputs \n",
    "        result = wrong_add_function(arg1, arg2)\n",
    "        return result\n",
    "    except Exception:\n",
    "        # If error, prepare fixed copies (without changing original inputs)\n",
    "        \n",
    "       \n",
    "        def all_convertible_to_int(lst):  # Check if all elements in a list can be converted to int\n",
    "            try:\n",
    "                [int(x) for x in lst]\n",
    "                return True\n",
    "            except Exception:\n",
    "                return False\n",
    "       \n",
    "        if all_convertible_to_int(arg1) and all_convertible_to_int(arg2):\n",
    "            fixed_arg1 = [int(x) for x in arg1]\n",
    "            fixed_arg2 = [int(x) for x in arg2]\n",
    "        else:\n",
    "            fixed_arg1 = [str(x) for x in arg1]\n",
    "            fixed_arg2 = [str(x) for x in arg2]\n",
    "        \n",
    "        # Now run wrong_add_function on fixed copies\n",
    "        result = wrong_add_function(fixed_arg1, fixed_arg2)\n",
    "        return result\n",
    "\n",
    "arg_str_1 = ['1', '2', '3']\n",
    "arg_str_2 = ['1', '1', 1]\n",
    "\n",
    "print(correction_add_function(arg_str_1, arg_str_2))\n",
    "print(\"I am not entirely sure this was what was asked, but it seems to accomplish the intent\")"
   ]
  }
 ],
 "metadata": {
  "kernelspec": {
   "display_name": "Python 3 (ipykernel)",
   "language": "python",
   "name": "python3"
  },
  "language_info": {
   "codemirror_mode": {
    "name": "ipython",
    "version": 3
   },
   "file_extension": ".py",
   "mimetype": "text/x-python",
   "name": "python",
   "nbconvert_exporter": "python",
   "pygments_lexer": "ipython3",
   "version": "3.13.5"
  }
 },
 "nbformat": 4,
 "nbformat_minor": 5
}
