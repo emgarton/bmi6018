{
 "cells": [
  {
   "cell_type": "markdown",
   "id": "7849a89f-b0de-4c96-83a8-b11e6d9f7f21",
   "metadata": {},
   "source": [
    "Assignment: Simple Data Types"
   ]
  },
  {
   "cell_type": "code",
   "execution_count": 1,
   "id": "be481802-4518-4adf-a4d9-6b00d367a535",
   "metadata": {},
   "outputs": [
    {
     "name": "stdout",
     "output_type": "stream",
     "text": [
      "sum of boolean:  2\n"
     ]
    }
   ],
   "source": [
    "#Q1 Booleans\n",
    "variable = ['y','y','n']\n",
    "variable_bool = [1 if item =='y' else 0 for item in variable]\n",
    "\n",
    "print ('sum of boolean: ',sum(variable_bool))"
   ]
  },
  {
   "cell_type": "code",
   "execution_count": 2,
   "id": "05b1e820-4f11-4ad3-b65b-0d8465f37571",
   "metadata": {},
   "outputs": [
    {
     "data": {
      "text/plain": [
       "1"
      ]
     },
     "execution_count": 2,
     "metadata": {},
     "output_type": "execute_result"
    }
   ],
   "source": [
    "#Q2 Booleans 2\n",
    "logical_tracker = True\n",
    "logical_tracker = logical_tracker & logical_tracker\n",
    "logical_tracker = logical_tracker | (logical_tracker - logical_tracker)\n",
    "logical_tracker"
   ]
  },
  {
   "cell_type": "code",
   "execution_count": 4,
   "id": "3622d6f9-3e40-495c-a329-d7c612596bf0",
   "metadata": {},
   "outputs": [
    {
     "data": {
      "text/plain": [
       "' '"
      ]
     },
     "execution_count": 4,
     "metadata": {},
     "output_type": "execute_result"
    }
   ],
   "source": [
    "#Q5 Strings\n",
    "string = \"E. Coli\"\n",
    "string[2]"
   ]
  },
  {
   "cell_type": "code",
   "execution_count": 5,
   "id": "bf567171-84ff-4026-a950-b7e80c72d1cf",
   "metadata": {},
   "outputs": [
    {
     "ename": "TypeError",
     "evalue": "'str' object does not support item assignment",
     "output_type": "error",
     "traceback": [
      "\u001b[1;31m---------------------------------------------------------------------------\u001b[0m",
      "\u001b[1;31mTypeError\u001b[0m                                 Traceback (most recent call last)",
      "Cell \u001b[1;32mIn[5], line 3\u001b[0m\n\u001b[0;32m      1\u001b[0m \u001b[38;5;66;03m#Q6 Strings 2\u001b[39;00m\n\u001b[0;32m      2\u001b[0m string \u001b[38;5;241m=\u001b[39m \u001b[38;5;124m\"\u001b[39m\u001b[38;5;124mI Bove python\u001b[39m\u001b[38;5;124m\"\u001b[39m\n\u001b[1;32m----> 3\u001b[0m string[\u001b[38;5;241m2\u001b[39m] \u001b[38;5;241m=\u001b[39m \u001b[38;5;124m\"\u001b[39m\u001b[38;5;124mL\u001b[39m\u001b[38;5;124m\"\u001b[39m\n\u001b[0;32m      4\u001b[0m string\n",
      "\u001b[1;31mTypeError\u001b[0m: 'str' object does not support item assignment"
     ]
    }
   ],
   "source": [
    "#Q6 Strings 2\n",
    "string = \"I Bove python\"\n",
    "string[2] = \"L\"\n",
    "string\n",
    "#this does not work "
   ]
  },
  {
   "cell_type": "code",
   "execution_count": 7,
   "id": "0a33c2ad-4381-476e-af10-13df1baa6ab9",
   "metadata": {},
   "outputs": [
    {
     "name": "stdout",
     "output_type": "stream",
     "text": [
      "<class 'int'>\n"
     ]
    }
   ],
   "source": [
    "#Q7 Operators 2\n",
    "#number of Jack's medications\n",
    "medication = 5\n",
    "#check data type of variable\n",
    "print(type(medication))"
   ]
  },
  {
   "cell_type": "code",
   "execution_count": 10,
   "id": "fe6c8ae8-a8ff-4862-be2d-84a1e83c15d6",
   "metadata": {},
   "outputs": [
    {
     "name": "stdout",
     "output_type": "stream",
     "text": [
      "24.034609838166958\n",
      "<class 'float'>\n"
     ]
    }
   ],
   "source": [
    "#Q8 Float\n",
    "weight = 60.0\n",
    "height = 1.58\n",
    "bmi = weight / pow(height, 2)\n",
    "print(bmi)\n",
    "print(type(bmi))"
   ]
  },
  {
   "cell_type": "code",
   "execution_count": 12,
   "id": "e6ee27d6-6087-4c3f-aede-4906d3521189",
   "metadata": {},
   "outputs": [
    {
     "data": {
      "text/plain": [
       "'73'"
      ]
     },
     "execution_count": 12,
     "metadata": {},
     "output_type": "execute_result"
    }
   ],
   "source": [
    "#Q10 Strings 3\n",
    "str1 = \"7\"\n",
    "str2 = \"3\"\n",
    "str1 + str2"
   ]
  }
 ],
 "metadata": {
  "kernelspec": {
   "display_name": "Python 3 (ipykernel)",
   "language": "python",
   "name": "python3"
  },
  "language_info": {
   "codemirror_mode": {
    "name": "ipython",
    "version": 3
   },
   "file_extension": ".py",
   "mimetype": "text/x-python",
   "name": "python",
   "nbconvert_exporter": "python",
   "pygments_lexer": "ipython3",
   "version": "3.13.5"
  }
 },
 "nbformat": 4,
 "nbformat_minor": 5
}
