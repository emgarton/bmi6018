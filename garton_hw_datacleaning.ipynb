{
 "cells": [
  {
   "cell_type": "code",
   "execution_count": 2,
   "id": "8878655b-363a-4c53-8757-4408eea74e4a",
   "metadata": {},
   "outputs": [],
   "source": [
    "import pandas as pd\n",
    "import matplotlib.pyplot as plt\n",
    "import numpy as np"
   ]
  },
  {
   "cell_type": "code",
   "execution_count": 84,
   "id": "a2dd20a6-5d08-493e-b610-58dc56a63640",
   "metadata": {},
   "outputs": [
    {
     "data": {
      "text/plain": [
       "336776"
      ]
     },
     "execution_count": 84,
     "metadata": {},
     "output_type": "execute_result"
    }
   ],
   "source": [
    "flights_data = pd.read_csv('flights.csv')\n",
    "\n",
    "weather_data_pd = pd.read_csv('weather.csv')\n",
    "weather_data_np = weather_data_pd.to_numpy()\n",
    "len(flights_data)\n",
    "#%% Pandas Data Filtering/Sorting Question Answering\n",
    "#use flights_data"
   ]
  },
  {
   "cell_type": "code",
   "execution_count": 8,
   "id": "78b0e19e-d730-479a-8497-57617fe2ff61",
   "metadata": {},
   "outputs": [
    {
     "data": {
      "text/plain": [
       "2113"
      ]
     },
     "execution_count": 8,
     "metadata": {},
     "output_type": "execute_result"
    }
   ],
   "source": [
    "#Question 1 How many flights were there from JFK to SLC? Int\n",
    "jfk_to_slc = flights_data.query('origin == \"JFK\" and dest == \"SLC\"') #easily query two criteria in two different columns\n",
    "q_1 = len(jfk_to_slc) #how many rows remain\n",
    "q_1 "
   ]
  },
  {
   "cell_type": "code",
   "execution_count": 16,
   "id": "0fd631ba-18a7-42be-869d-68f2f60be3eb",
   "metadata": {},
   "outputs": [
    {
     "data": {
      "text/plain": [
       "2"
      ]
     },
     "execution_count": 16,
     "metadata": {},
     "output_type": "execute_result"
    }
   ],
   "source": [
    "#Question 2 How many airlines fly to SLC? Should be int\n",
    "to_slc = flights_data[(flights_data['dest'] == 'SLC')] #filter to flights with a destination of SLC\n",
    "q_2 = to_slc['carrier'].nunique() #count the number of unique values in carrier (airline) column\n",
    "q_2"
   ]
  },
  {
   "cell_type": "code",
   "execution_count": 21,
   "id": "55cdfc91-08b2-4ba5-89b0-99056ddb3326",
   "metadata": {},
   "outputs": [
    {
     "name": "stdout",
     "output_type": "stream",
     "text": [
      "10.052380952380952 minutes\n"
     ]
    }
   ],
   "source": [
    "#Question 3 What is the average arrival delay for flights to RDU? float\n",
    "to_rdu = flights_data[(flights_data['dest'] == 'RDU')] #filter to only flights arriving to RDU\n",
    "q_3 = to_rdu['arr_delay'].mean() #take average\n",
    "print(f\"{q_3} minutes\")"
   ]
  },
  {
   "cell_type": "code",
   "execution_count": 25,
   "id": "f7021b0b-b9fd-45a6-af38-4aba88b570e3",
   "metadata": {},
   "outputs": [
    {
     "name": "stdout",
     "output_type": "stream",
     "text": [
      "53.3 %\n"
     ]
    }
   ],
   "source": [
    "#Question 4 What proportion of flights to SEA come from the two NYC airports (LGA and JFK)?  float\n",
    "to_sea = flights_data[(flights_data['dest'] == 'SEA')] #filter to only flights arriving to SEA\n",
    "nyc_to_sea = to_sea.query('origin == \"LGA\" or origin == \"JFK\"') #create another filtered list of those with origin as LGA or JFK\n",
    "q_4 = (len(nyc_to_sea) / len(to_sea)) * 100 #generate proportion\n",
    "print(f\"{q_4:.1f} %\") #display as percentage"
   ]
  },
  {
   "cell_type": "code",
   "execution_count": 110,
   "id": "fa042684-733f-4e98-9f4f-2eb10cbf1997",
   "metadata": {},
   "outputs": [
    {
     "data": {
      "text/html": [
       "<div>\n",
       "<style scoped>\n",
       "    .dataframe tbody tr th:only-of-type {\n",
       "        vertical-align: middle;\n",
       "    }\n",
       "\n",
       "    .dataframe tbody tr th {\n",
       "        vertical-align: top;\n",
       "    }\n",
       "\n",
       "    .dataframe thead th {\n",
       "        text-align: right;\n",
       "    }\n",
       "</style>\n",
       "<table border=\"1\" class=\"dataframe\">\n",
       "  <thead>\n",
       "    <tr style=\"text-align: right;\">\n",
       "      <th></th>\n",
       "      <th>dep_date</th>\n",
       "      <th>dep_delay</th>\n",
       "    </tr>\n",
       "  </thead>\n",
       "  <tbody>\n",
       "    <tr>\n",
       "      <th>0</th>\n",
       "      <td>13/03/08</td>\n",
       "      <td>83.536921</td>\n",
       "    </tr>\n",
       "  </tbody>\n",
       "</table>\n",
       "</div>"
      ],
      "text/plain": [
       "   dep_date  dep_delay\n",
       "0  13/03/08  83.536921"
      ]
     },
     "execution_count": 110,
     "metadata": {},
     "output_type": "execute_result"
    }
   ],
   "source": [
    "#Question 5 Which date has the largest average depature delay? Pd slice with date and float\n",
    "#please make date a column. Preferred format is 2013/1/1 (y/m/d)\n",
    "flights_data['dep_date'] = pd.to_datetime(dict(year = flights_data['year'], month = flights_data['month'], day = flights_data['day'])) #make departure date column\n",
    "flights_data['dep_date'] = flights_data['dep_date'].dt.strftime('%y/%m/%d') #format departure date column\n",
    "\n",
    "q_5_slice = flights_data[['dep_delay', 'dep_date']] #take a slice of the data\n",
    "q_5_groupby = q_5_slice.groupby('dep_date')['dep_delay'].mean().reset_index().set_index('dep_date') #groupby departure date and find the average, but there has got to be a more efficient way to do this\n",
    "row_q_5 = q_5_groupby['dep_delay'].idxmax() #take maximum value for delay and find the index (date)\n",
    "q_5 = q_5_groupby.loc[[row_q_5]].reset_index() #take whole row with that max speed\n",
    "q_5"
   ]
  },
  {
   "cell_type": "code",
   "execution_count": 112,
   "id": "7e131883-1590-4161-baae-f3e6a6a053e8",
   "metadata": {},
   "outputs": [
    {
     "data": {
      "text/html": [
       "<div>\n",
       "<style scoped>\n",
       "    .dataframe tbody tr th:only-of-type {\n",
       "        vertical-align: middle;\n",
       "    }\n",
       "\n",
       "    .dataframe tbody tr th {\n",
       "        vertical-align: top;\n",
       "    }\n",
       "\n",
       "    .dataframe thead th {\n",
       "        text-align: right;\n",
       "    }\n",
       "</style>\n",
       "<table border=\"1\" class=\"dataframe\">\n",
       "  <thead>\n",
       "    <tr style=\"text-align: right;\">\n",
       "      <th></th>\n",
       "      <th>dep_date</th>\n",
       "      <th>arr_delay</th>\n",
       "    </tr>\n",
       "  </thead>\n",
       "  <tbody>\n",
       "    <tr>\n",
       "      <th>0</th>\n",
       "      <td>13/03/08</td>\n",
       "      <td>85.862155</td>\n",
       "    </tr>\n",
       "  </tbody>\n",
       "</table>\n",
       "</div>"
      ],
      "text/plain": [
       "   dep_date  arr_delay\n",
       "0  13/03/08  85.862155"
      ]
     },
     "execution_count": 112,
     "metadata": {},
     "output_type": "execute_result"
    }
   ],
   "source": [
    "#Question 6 Which date has the largest average arrival delay? pd slice with date and float\n",
    "q_6_slice = flights_data[['arr_delay', 'dep_date']] #take a slice of the data\n",
    "q_6_groupby = q_6_slice.groupby('dep_date')['arr_delay'].mean().reset_index().set_index('dep_date') #groupby departure date and find the average, but there has got to be a more efficient way to do this\n",
    "row_q_6 = q_6_groupby['arr_delay'].idxmax() #take maximum value for delay and find the index (date)\n",
    "q_6 = q_6_groupby.loc[[row_q_6]].reset_index() #take whole row with that max delay\n",
    "q_6"
   ]
  },
  {
   "cell_type": "code",
   "execution_count": 83,
   "id": "405aaccf-92f3-4a88-962c-cb64e29745f8",
   "metadata": {},
   "outputs": [
    {
     "data": {
      "text/html": [
       "<div>\n",
       "<style scoped>\n",
       "    .dataframe tbody tr th:only-of-type {\n",
       "        vertical-align: middle;\n",
       "    }\n",
       "\n",
       "    .dataframe tbody tr th {\n",
       "        vertical-align: top;\n",
       "    }\n",
       "\n",
       "    .dataframe thead th {\n",
       "        text-align: right;\n",
       "    }\n",
       "</style>\n",
       "<table border=\"1\" class=\"dataframe\">\n",
       "  <thead>\n",
       "    <tr style=\"text-align: right;\">\n",
       "      <th></th>\n",
       "      <th>tailnum</th>\n",
       "      <th>speed</th>\n",
       "    </tr>\n",
       "  </thead>\n",
       "  <tbody>\n",
       "    <tr>\n",
       "      <th>216447</th>\n",
       "      <td>N666DN</td>\n",
       "      <td>11.723077</td>\n",
       "    </tr>\n",
       "  </tbody>\n",
       "</table>\n",
       "</div>"
      ],
      "text/plain": [
       "       tailnum      speed\n",
       "216447  N666DN  11.723077"
      ]
     },
     "execution_count": 83,
     "metadata": {},
     "output_type": "execute_result"
    }
   ],
   "source": [
    "#Question 7 Which flight departing LGA or JFK in 2013 flew the fastest? pd slice with tailnumber and speed\n",
    "#speed = distance/airtime\n",
    "flights_data['speed'] = flights_data['distance'] / flights_data['air_time'] #calculate speed\n",
    "\n",
    "#three conditions\n",
    "c1 = flights_data['origin'] == 'LGA' \n",
    "c2 = flights_data['origin'] == 'JFK'\n",
    "c3 = flights_data['year'] == 2013\n",
    "\n",
    "q_7_slice = flights_data[(c1 | c2) & c3] #filter the dataframe based on the three conditions\n",
    "\n",
    "q_7_slice = q_7_slice [['tailnum', 'speed']] #limit to just tailnumber and speed\n",
    "row = q_7_slice['speed'].idxmax() #get max speed\n",
    "q_7 = q_7_slice.loc[[row]] #take whole row with that max speed\n",
    "q_7"
   ]
  },
  {
   "cell_type": "code",
   "execution_count": 91,
   "id": "77acb144-c96c-45fc-acfd-6764e499d7ab",
   "metadata": {},
   "outputs": [
    {
     "name": "stdout",
     "output_type": "stream",
     "text": [
      "Before there were 1180 nans in the dataset, now there are 0 nans in the dataset\n"
     ]
    },
    {
     "data": {
      "text/html": [
       "<div>\n",
       "<style scoped>\n",
       "    .dataframe tbody tr th:only-of-type {\n",
       "        vertical-align: middle;\n",
       "    }\n",
       "\n",
       "    .dataframe tbody tr th {\n",
       "        vertical-align: top;\n",
       "    }\n",
       "\n",
       "    .dataframe thead th {\n",
       "        text-align: right;\n",
       "    }\n",
       "</style>\n",
       "<table border=\"1\" class=\"dataframe\">\n",
       "  <thead>\n",
       "    <tr style=\"text-align: right;\">\n",
       "      <th></th>\n",
       "      <th>Unnamed: 0</th>\n",
       "      <th>origin</th>\n",
       "      <th>year</th>\n",
       "      <th>month</th>\n",
       "      <th>day</th>\n",
       "      <th>hour</th>\n",
       "      <th>temp</th>\n",
       "      <th>dewp</th>\n",
       "      <th>humid</th>\n",
       "      <th>wind_dir</th>\n",
       "      <th>wind_speed</th>\n",
       "      <th>wind_gust</th>\n",
       "      <th>precip</th>\n",
       "      <th>pressure</th>\n",
       "      <th>visib</th>\n",
       "    </tr>\n",
       "  </thead>\n",
       "  <tbody>\n",
       "    <tr>\n",
       "      <th>6535</th>\n",
       "      <td>6536</td>\n",
       "      <td>EWR</td>\n",
       "      <td>2013</td>\n",
       "      <td>9.0</td>\n",
       "      <td>30.0</td>\n",
       "      <td>19.0</td>\n",
       "      <td>71.96</td>\n",
       "      <td>51.08</td>\n",
       "      <td>47.75</td>\n",
       "      <td>150.0</td>\n",
       "      <td>8.05546</td>\n",
       "      <td>9.270062</td>\n",
       "      <td>0.0</td>\n",
       "      <td>1015.4</td>\n",
       "      <td>10.0</td>\n",
       "    </tr>\n",
       "    <tr>\n",
       "      <th>703</th>\n",
       "      <td>704</td>\n",
       "      <td>EWR</td>\n",
       "      <td>2013</td>\n",
       "      <td>1.0</td>\n",
       "      <td>30.0</td>\n",
       "      <td>8.0</td>\n",
       "      <td>41.00</td>\n",
       "      <td>39.20</td>\n",
       "      <td>93.24</td>\n",
       "      <td>20.0</td>\n",
       "      <td>4.60312</td>\n",
       "      <td>5.297178</td>\n",
       "      <td>0.0</td>\n",
       "      <td>0.0</td>\n",
       "      <td>0.5</td>\n",
       "    </tr>\n",
       "    <tr>\n",
       "      <th>4615</th>\n",
       "      <td>4616</td>\n",
       "      <td>EWR</td>\n",
       "      <td>2013</td>\n",
       "      <td>7.0</td>\n",
       "      <td>12.0</td>\n",
       "      <td>13.0</td>\n",
       "      <td>78.08</td>\n",
       "      <td>64.04</td>\n",
       "      <td>62.05</td>\n",
       "      <td>50.0</td>\n",
       "      <td>13.80936</td>\n",
       "      <td>15.891535</td>\n",
       "      <td>0.0</td>\n",
       "      <td>1016.3</td>\n",
       "      <td>10.0</td>\n",
       "    </tr>\n",
       "    <tr>\n",
       "      <th>7954</th>\n",
       "      <td>7955</td>\n",
       "      <td>EWR</td>\n",
       "      <td>2013</td>\n",
       "      <td>11.0</td>\n",
       "      <td>29.0</td>\n",
       "      <td>12.0</td>\n",
       "      <td>30.92</td>\n",
       "      <td>19.04</td>\n",
       "      <td>60.97</td>\n",
       "      <td>270.0</td>\n",
       "      <td>4.60312</td>\n",
       "      <td>5.297178</td>\n",
       "      <td>0.0</td>\n",
       "      <td>1034.9</td>\n",
       "      <td>10.0</td>\n",
       "    </tr>\n",
       "    <tr>\n",
       "      <th>3690</th>\n",
       "      <td>3691</td>\n",
       "      <td>EWR</td>\n",
       "      <td>2013</td>\n",
       "      <td>6.0</td>\n",
       "      <td>3.0</td>\n",
       "      <td>22.0</td>\n",
       "      <td>73.40</td>\n",
       "      <td>66.20</td>\n",
       "      <td>78.19</td>\n",
       "      <td>60.0</td>\n",
       "      <td>5.75390</td>\n",
       "      <td>6.621473</td>\n",
       "      <td>0.0</td>\n",
       "      <td>0.0</td>\n",
       "      <td>10.0</td>\n",
       "    </tr>\n",
       "  </tbody>\n",
       "</table>\n",
       "</div>"
      ],
      "text/plain": [
       "      Unnamed: 0 origin  year  month   day  hour   temp   dewp  humid  \\\n",
       "6535        6536    EWR  2013    9.0  30.0  19.0  71.96  51.08  47.75   \n",
       "703          704    EWR  2013    1.0  30.0   8.0  41.00  39.20  93.24   \n",
       "4615        4616    EWR  2013    7.0  12.0  13.0  78.08  64.04  62.05   \n",
       "7954        7955    EWR  2013   11.0  29.0  12.0  30.92  19.04  60.97   \n",
       "3690        3691    EWR  2013    6.0   3.0  22.0  73.40  66.20  78.19   \n",
       "\n",
       "      wind_dir  wind_speed  wind_gust  precip  pressure  visib  \n",
       "6535     150.0     8.05546   9.270062     0.0    1015.4   10.0  \n",
       "703       20.0     4.60312   5.297178     0.0       0.0    0.5  \n",
       "4615      50.0    13.80936  15.891535     0.0    1016.3   10.0  \n",
       "7954     270.0     4.60312   5.297178     0.0    1034.9   10.0  \n",
       "3690      60.0     5.75390   6.621473     0.0       0.0   10.0  "
      ]
     },
     "execution_count": 91,
     "metadata": {},
     "output_type": "execute_result"
    }
   ],
   "source": [
    "#Question 8 Replace all nans in the weather pd dataframe with 0s. Pd with no nans\n",
    "weather_data_filled = weather_data_pd.fillna(0) #replace nan with 0\n",
    "weather_data_filled.sample(5)\n",
    "before_nan_count = weather_data_pd.isnull().sum().sum() #count nans before the replacement\n",
    "after_nan_count = weather_data_filled.isnull().sum().sum() #count nans after the replacement\n",
    "print(f\"Before there were {before_nan_count} nans in the dataset, now there are {after_nan_count} nans in the dataset\")\n",
    "weather_data_filled.sample(5)"
   ]
  },
  {
   "cell_type": "code",
   "execution_count": 98,
   "id": "c4f787ee-5de1-4230-bf61-27c8cb67ddaa",
   "metadata": {},
   "outputs": [
    {
     "name": "stdout",
     "output_type": "stream",
     "text": [
      "671\n"
     ]
    }
   ],
   "source": [
    "#%% Numpy Data Filtering/Sorting Question Answering\n",
    "#Use weather_data_np\n",
    "#Question 9 How many observations were made in Feburary? Int\n",
    "np.set_printoptions(threshold=np.inf) #see the whole array\n",
    "feb = 2.0 \n",
    "column_index = 3 \n",
    "mask = weather_data_np[:, column_index] == 2.0 #limit to feb\n",
    "q_9= np.sum(mask) #add up the number of rows in the feb-limited array\n",
    "print(q_9)"
   ]
  },
  {
   "cell_type": "code",
   "execution_count": 108,
   "id": "b11fae27-882e-4b19-b87d-2d40d5395f45",
   "metadata": {},
   "outputs": [
    {
     "name": "stdout",
     "output_type": "stream",
     "text": [
      "21.705663189269764\n"
     ]
    }
   ],
   "source": [
    "#Question 10 What was the mean for humidity in February? Float\n",
    "feb_slice = weather_data_np[mask] #took our feb-limited slice from last time\n",
    "feb_humidity = feb_slice[:,7] #pulled just humidity values\n",
    "q_10 = np.mean(feb_humidity) #average of humidity values\n",
    "print(q_10)"
   ]
  },
  {
   "cell_type": "code",
   "execution_count": 114,
   "id": "cc2791f3-e19b-41dd-867b-d62c421517ac",
   "metadata": {},
   "outputs": [
    {
     "name": "stdout",
     "output_type": "stream",
     "text": [
      "11.364624281817958\n"
     ]
    }
   ],
   "source": [
    "#Question 11 What was the std for humidity in February? Float\n",
    "#assuming this refers to standard deviation? \n",
    "#we already have a nice slice for just feb humidity so we start with that\n",
    "q_11 = np.std(feb_humidity) #use numpy standard deviation of entire array \n",
    "print(q_11)"
   ]
  }
 ],
 "metadata": {
  "kernelspec": {
   "display_name": "Python 3 (ipykernel)",
   "language": "python",
   "name": "python3"
  },
  "language_info": {
   "codemirror_mode": {
    "name": "ipython",
    "version": 3
   },
   "file_extension": ".py",
   "mimetype": "text/x-python",
   "name": "python",
   "nbconvert_exporter": "python",
   "pygments_lexer": "ipython3",
   "version": "3.13.5"
  }
 },
 "nbformat": 4,
 "nbformat_minor": 5
}
